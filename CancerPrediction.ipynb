{
 "cells": [
  {
   "cell_type": "code",
   "execution_count": 1,
   "id": "1051ba4e",
   "metadata": {},
   "outputs": [],
   "source": [
    "import numpy as np\n",
    "import matplotlib.pyplot as plt\n",
    "import pandas as pd\n",
    "import re\n",
    "\n",
    "from sklearn.compose import ColumnTransformer\n",
    "from sklearn.preprocessing import OneHotEncoder\n",
    "from sklearn.model_selection import train_test_split\n",
    "from sklearn.linear_model import LinearRegression\n",
    "from sklearn.preprocessing import PolynomialFeatures\n",
    "from sklearn.preprocessing import StandardScaler\n",
    "from sklearn.svm import SVR\n",
    "from sklearn.tree import DecisionTreeRegressor\n",
    "\n",
    "from sklearn.metrics import r2_score"
   ]
  },
  {
   "cell_type": "code",
   "execution_count": 2,
   "id": "e2206f7c",
   "metadata": {},
   "outputs": [],
   "source": [
    "dataset = pd.read_csv('cancer_reg.csv', encoding='latin-1')"
   ]
  },
  {
   "cell_type": "code ",
   "execution_count": null,
   "id": "4f15dc9e",
   "metadata": {},
   "outputs": [],
   "source": []
  },
  {
   "cell_type": "markdown",
   "id": "e2434a8a",
   "metadata": {},
   "source": [
    "## Check for missing values"
   ]
  },
  {
   "cell_type": "code",
   "execution_count": 3,
   "id": "0ab0281d",
   "metadata": {
    "scrolled": true
   },
   "outputs": [
    {
     "name": "stdout",
     "output_type": "stream",
     "text": [
      "<class 'pandas.core.frame.DataFrame'>\n",
      "RangeIndex: 3047 entries, 0 to 3046\n",
      "Data columns (total 34 columns):\n",
      " #   Column                   Non-Null Count  Dtype  \n",
      "---  ------                   --------------  -----  \n",
      " 0   avgAnnCount              3047 non-null   float64\n",
      " 1   avgDeathsPerYear         3047 non-null   int64  \n",
      " 2   TARGET_deathRate         3047 non-null   float64\n",
      " 3   incidenceRate            3047 non-null   float64\n",
      " 4   medIncome                3047 non-null   int64  \n",
      " 5   popEst2015               3047 non-null   int64  \n",
      " 6   povertyPercent           3047 non-null   float64\n",
      " 7   studyPerCap              3047 non-null   float64\n",
      " 8   binnedInc                3047 non-null   object \n",
      " 9   MedianAge                3047 non-null   float64\n",
      " 10  MedianAgeMale            3047 non-null   float64\n",
      " 11  MedianAgeFemale          3047 non-null   float64\n",
      " 12  Geography                3047 non-null   object \n",
      " 13  AvgHouseholdSize         3047 non-null   float64\n",
      " 14  PercentMarried           3047 non-null   float64\n",
      " 15  PctNoHS18_24             3047 non-null   float64\n",
      " 16  PctHS18_24               3047 non-null   float64\n",
      " 17  PctSomeCol18_24          762 non-null    float64\n",
      " 18  PctBachDeg18_24          3047 non-null   float64\n",
      " 19  PctHS25_Over             3047 non-null   float64\n",
      " 20  PctBachDeg25_Over        3047 non-null   float64\n",
      " 21  PctEmployed16_Over       2895 non-null   float64\n",
      " 22  PctUnemployed16_Over     3047 non-null   float64\n",
      " 23  PctPrivateCoverage       3047 non-null   float64\n",
      " 24  PctPrivateCoverageAlone  2438 non-null   float64\n",
      " 25  PctEmpPrivCoverage       3047 non-null   float64\n",
      " 26  PctPublicCoverage        3047 non-null   float64\n",
      " 27  PctPublicCoverageAlone   3047 non-null   float64\n",
      " 28  PctWhite                 3047 non-null   float64\n",
      " 29  PctBlack                 3047 non-null   float64\n",
      " 30  PctAsian                 3047 non-null   float64\n",
      " 31  PctOtherRace             3047 non-null   float64\n",
      " 32  PctMarriedHouseholds     3047 non-null   float64\n",
      " 33  BirthRate                3047 non-null   float64\n",
      "dtypes: float64(29), int64(3), object(2)\n",
      "memory usage: 809.5+ KB\n"
     ]
    }
   ],
   "source": [
    "dataset.info()"
   ]
  },
  {
   "cell_type": "markdown",
   "id": "10a3b526",
   "metadata": {},
   "source": [
    "## Handle missing values"
   ]
  },
  {
   "cell_type": "code",
   "execution_count": 4,
   "id": "dcb118f2",
   "metadata": {},
   "outputs": [],
   "source": [
    "#remove PctSomeCol18_24 column because numver of missing value for this column is large\n",
    "dataset = dataset.drop(columns=['PctSomeCol18_24'])"
   ]
  },
  {
   "cell_type": "code",
   "execution_count": 5,
   "id": "04915e25",
   "metadata": {},
   "outputs": [],
   "source": [
    "#replace null value with mean of correspoding column\n",
    "dataset.fillna(dataset.mean(), inplace=True)"
   ]
  },
  {
   "cell_type": "markdown",
   "id": "69b0b28a",
   "metadata": {},
   "source": [
    "Get Average of binnedInc"
   ]
  },
  {
   "cell_type": "code",
   "execution_count": 6,
   "id": "5ad249b9",
   "metadata": {
    "scrolled": true
   },
   "outputs": [],
   "source": [
    "# Use regular expression to remove ( and ] \n",
    "dataset['binnedInc'] = dataset['binnedInc'].apply(lambda x: re.sub('[^0-9a-zA-Z:,.]+', '', x))\n",
    "samples = dataset['binnedInc'].str.split(',',expand=True).astype(float)\n",
    "avg = (samples[0] + samples[1])/2\n",
    "dataset['avgbinnedInc'] = avg\n",
    "dataset.drop(columns=['binnedInc'], inplace=True)"
   ]
  },
  {
   "cell_type": "markdown",
   "id": "9d4439ba",
   "metadata": {},
   "source": [
    "## Feature Engineering"
   ]
  },
  {
   "cell_type": "code",
   "execution_count": 7,
   "id": "36d18e7f",
   "metadata": {},
   "outputs": [],
   "source": [
    "#Split the Geography column to two different column - County and State and remove the County Column as all values in this feature is different\n",
    "dataset['County'] = dataset['Geography'].apply(lambda x: x.split(',')[0])\n",
    "dataset['State'] = dataset['Geography'].apply(lambda x: x.split(',')[1])\n",
    "dataset.drop(columns=['Geography', 'County'], inplace=True)"
   ]
  },
  {
   "cell_type": "code",
   "execution_count": 8,
   "id": "a2f03d53",
   "metadata": {},
   "outputs": [],
   "source": [
    "X = dataset.loc[: , dataset.columns != 'TARGET_deathRate'].values\n",
    "y = dataset.iloc[:, 2:3].values.flatten()"
   ]
  },
  {
   "cell_type": "code",
   "execution_count": 9,
   "id": "9a785384",
   "metadata": {},
   "outputs": [
    {
     "data": {
      "text/plain": [
       "array([[1397.0, 469, 489.8, ..., 6.118831029, 93564.75, ' Washington'],\n",
       "       [173.0, 70, 411.6, ..., 4.333095578, 49534.0, ' Washington'],\n",
       "       [102.0, 50, 349.7, ..., 3.729487817, 49534.0, ' Washington'],\n",
       "       ...,\n",
       "       [1962.667684, 46, 453.5494221, ..., 7.80919168, 52796.0,\n",
       "        ' Kansas'],\n",
       "       [1962.667684, 52, 453.5494221, ..., 7.582938389, 49534.0,\n",
       "        ' Kansas'],\n",
       "       [1962.667684, 48, 453.5494221, ..., 8.981723237999999, 41543.55,\n",
       "        ' Kansas']], dtype=object)"
      ]
     },
     "execution_count": 9,
     "metadata": {},
     "output_type": "execute_result"
    }
   ],
   "source": [
    "X"
   ]
  },
  {
   "cell_type": "code",
   "execution_count": 10,
   "id": "f404bddc",
   "metadata": {},
   "outputs": [
    {
     "data": {
      "text/plain": [
       "array([164.9, 161.3, 174.7, ..., 153.9, 175. , 213.6])"
      ]
     },
     "execution_count": 10,
     "metadata": {},
     "output_type": "execute_result"
    }
   ],
   "source": [
    "y"
   ]
  },
  {
   "cell_type": "markdown",
   "id": "c3d50457",
   "metadata": {},
   "source": [
    "## Encoding categorical data"
   ]
  },
  {
   "cell_type": "code",
   "execution_count": 11,
   "id": "05b48bc7",
   "metadata": {},
   "outputs": [],
   "source": [
    "ct = ColumnTransformer(transformers=[('encoder', OneHotEncoder(), [31])], remainder='passthrough')\n",
    "X = np.array(ct.fit_transform(X))"
   ]
  },
  {
   "cell_type": "code",
   "execution_count": null,
   "id": "d3230803",
   "metadata": {},
   "outputs": [],
   "source": []
  },
  {
   "cell_type": "markdown",
   "id": "16f916d4",
   "metadata": {},
   "source": [
    "## Splitting the dataset into the Training set and Test set"
   ]
  },
  {
   "cell_type": "code",
   "execution_count": 12,
   "id": "5e2d0932",
   "metadata": {},
   "outputs": [],
   "source": [
    "X_train, X_test, y_train, y_test = train_test_split(X, y, test_size = 0.2, random_state = 0)"
   ]
  },
  {
   "cell_type": "code",
   "execution_count": null,
   "id": "caeeb48c",
   "metadata": {},
   "outputs": [],
   "source": []
  },
  {
   "cell_type": "markdown",
   "id": "9865167b",
   "metadata": {},
   "source": [
    "## Multiple Linear Regression model"
   ]
  },
  {
   "cell_type": "code",
   "execution_count": 13,
   "id": "269ae31c",
   "metadata": {},
   "outputs": [
    {
     "data": {
      "text/plain": [
       "0.6011030729412618"
      ]
     },
     "execution_count": 13,
     "metadata": {},
     "output_type": "execute_result"
    }
   ],
   "source": [
    "#training the model\n",
    "lnr_regressor = LinearRegression()\n",
    "lnr_regressor.fit(X_train, y_train)\n",
    "\n",
    "#predicting values using the model\n",
    "y_pred_lnr =  lnr_regressor.predict(X_test)\n",
    "\n",
    "#evalute the preformance using r2 score\n",
    "r2_score(y_test,y_pred_lnr)"
   ]
  },
  {
   "cell_type": "code",
   "execution_count": null,
   "id": "1a1c84ad",
   "metadata": {},
   "outputs": [],
   "source": []
  },
  {
   "cell_type": "markdown",
   "id": "835ac74a",
   "metadata": {},
   "source": [
    "## Decision tree regression"
   ]
  },
  {
   "cell_type": "code",
   "execution_count": 14,
   "id": "b569d39f",
   "metadata": {},
   "outputs": [
    {
     "data": {
      "text/plain": [
       "0.4488036098256478"
      ]
     },
     "execution_count": 14,
     "metadata": {},
     "output_type": "execute_result"
    }
   ],
   "source": [
    "# training the model\n",
    "tree_regressor = DecisionTreeRegressor( max_depth=6,)\n",
    "tree_regressor.fit(X_train, y_train)\n",
    "\n",
    "#predicting values using the model\n",
    "y_pred_tree = tree_regressor.predict(X_test)\n",
    "\n",
    "#evalute the preformance using r2 score\n",
    "r2_score(y_test,y_pred_tree)"
   ]
  },
  {
   "cell_type": "markdown",
   "id": "56e78a54",
   "metadata": {},
   "source": [
    "## Random forest regression"
   ]
  },
  {
   "cell_type": "code",
   "execution_count": 15,
   "id": "5f8e684d",
   "metadata": {},
   "outputs": [
    {
     "data": {
      "text/plain": [
       "0.5783966446005749"
      ]
     },
     "execution_count": 15,
     "metadata": {},
     "output_type": "execute_result"
    }
   ],
   "source": [
    "from sklearn.ensemble import RandomForestRegressor\n",
    "forest_regressor = RandomForestRegressor(n_estimators = 40, random_state = 0)\n",
    "forest_regressor.fit(X_train, y_train)\n",
    "\n",
    "#predicting values using the model\n",
    "y_pred_forest = forest_regressor.predict(X_test)\n",
    "\n",
    "#evalute the preformance using r2 score\n",
    "r2_score(y_test,y_pred_forest)"
   ]
  },
  {
   "cell_type": "markdown",
   "id": "a1fa8d29",
   "metadata": {},
   "source": [
    "## Support Vector Regression (SVR)\n"
   ]
  },
  {
   "cell_type": "code",
   "execution_count": 16,
   "id": "787adc26",
   "metadata": {},
   "outputs": [
    {
     "name": "stderr",
     "output_type": "stream",
     "text": [
      "c:\\users\\91897\\appdata\\local\\programs\\python\\python36\\lib\\site-packages\\sklearn\\utils\\validation.py:63: DataConversionWarning: A column-vector y was passed when a 1d array was expected. Please change the shape of y to (n_samples, ), for example using ravel().\n",
      "  return f(*args, **kwargs)\n"
     ]
    },
    {
     "data": {
      "text/plain": [
       "0.5253980525435493"
      ]
     },
     "execution_count": 16,
     "metadata": {},
     "output_type": "execute_result"
    }
   ],
   "source": [
    "# feature scaling\n",
    "sc_X = StandardScaler()\n",
    "sc_y = StandardScaler()\n",
    "X_train_svr = X_train.copy()\n",
    "X_test_svr = X_test.copy()\n",
    "y_train_svr = y_train.reshape(len(y_train),1).copy()\n",
    "y_test_svr = y_test.reshape(len(y_test),1).copy()\n",
    "X_train_svr[:, 51:] = sc_X.fit_transform(X_train_svr[:, 51:])\n",
    "X_test_svr[:, 51:] = sc_X.transform(X_test_svr[:, 51:])\n",
    "y_train_svr = sc_y.fit_transform(y_train_svr)\n",
    "y_test_svr = sc_y.transform(y_test_svr)\n",
    "\n",
    "# training the model\n",
    "svr_regressor = SVR(kernel = 'rbf')\n",
    "svr_regressor.fit(X_train_svr, y_train_svr)\n",
    "\n",
    "#predicting values using the model\n",
    "y_pred_svr = svr_regressor.predict(X_test_svr)\n",
    "\n",
    "#evalute the preformance using r2 score\n",
    "r2_score(y_test, sc_y.inverse_transform(y_pred_svr))"
   ]
  },
  {
   "cell_type": "code",
   "execution_count": null,
   "id": "8e786c6b",
   "metadata": {},
   "outputs": [],
   "source": []
  },
  {
   "cell_type": "markdown",
   "id": "6483e09f",
   "metadata": {},
   "source": [
    "### R2 score is used for selecting the best model. From the above experiment, we conclude that multiple linear regression is fitting best with R2 score of 0.6 (which can be improved by doing more feature engineering and tuning the model)"
   ]
  },
  {
   "cell_type": "code",
   "execution_count": null,
   "id": "ae2a2139",
   "metadata": {},
   "outputs": [],
   "source": []
  }
 ],
 "metadata": {
  "kernelspec": {
   "display_name": "Python 3",
   "language": "python",
   "name": "python3"
  },
  "language_info": {
   "codemirror_mode": {
    "name": "ipython",
    "version": 3
   },
   "file_extension": ".py",
   "mimetype": "text/x-python",
   "name": "python",
   "nbconvert_exporter": "python",
   "pygments_lexer": "ipython3",
   "version": "3.6.8"
  }
 },
 "nbformat": 4,
 "nbformat_minor": 5
}
