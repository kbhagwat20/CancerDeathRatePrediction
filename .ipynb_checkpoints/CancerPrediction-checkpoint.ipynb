{
 "cells": [
  {
   "cell_type": "code",
   "execution_count": 1,
   "id": "1051ba4e",
   "metadata": {},
   "outputs": [],
   "source": [
    "import numpy as np\n",
    "import matplotlib.pyplot as plt\n",
    "import pandas as pd\n",
    "import re\n",
    "\n",
    "from sklearn.compose import ColumnTransformer\n",
    "from sklearn.preprocessing import OneHotEncoder"
   ]
  },
  {
   "cell_type": "code",
   "execution_count": 2,
   "id": "e2206f7c",
   "metadata": {},
   "outputs": [],
   "source": [
    "dataset = pd.read_csv('cancer_reg.csv', encoding='latin-1')"
   ]
  },
  {
   "cell_type": "code",
   "execution_count": null,
   "id": "4f15dc9e",
   "metadata": {},
   "outputs": [],
   "source": []
  },
  {
   "cell_type": "markdown",
   "id": "9b3b712a",
   "metadata": {},
   "source": [
    "Check for missing values"
   ]
  },
  {
   "cell_type": "code",
   "execution_count": 3,
   "id": "0ab0281d",
   "metadata": {},
   "outputs": [
    {
     "name": "stdout",
     "output_type": "stream",
     "text": [
      "<class 'pandas.core.frame.DataFrame'>\n",
      "RangeIndex: 3047 entries, 0 to 3046\n",
      "Data columns (total 34 columns):\n",
      " #   Column                   Non-Null Count  Dtype  \n",
      "---  ------                   --------------  -----  \n",
      " 0   avgAnnCount              3047 non-null   float64\n",
      " 1   avgDeathsPerYear         3047 non-null   int64  \n",
      " 2   TARGET_deathRate         3047 non-null   float64\n",
      " 3   incidenceRate            3047 non-null   float64\n",
      " 4   medIncome                3047 non-null   int64  \n",
      " 5   popEst2015               3047 non-null   int64  \n",
      " 6   povertyPercent           3047 non-null   float64\n",
      " 7   studyPerCap              3047 non-null   float64\n",
      " 8   binnedInc                3047 non-null   object \n",
      " 9   MedianAge                3047 non-null   float64\n",
      " 10  MedianAgeMale            3047 non-null   float64\n",
      " 11  MedianAgeFemale          3047 non-null   float64\n",
      " 12  Geography                3047 non-null   object \n",
      " 13  AvgHouseholdSize         3047 non-null   float64\n",
      " 14  PercentMarried           3047 non-null   float64\n",
      " 15  PctNoHS18_24             3047 non-null   float64\n",
      " 16  PctHS18_24               3047 non-null   float64\n",
      " 17  PctSomeCol18_24          762 non-null    float64\n",
      " 18  PctBachDeg18_24          3047 non-null   float64\n",
      " 19  PctHS25_Over             3047 non-null   float64\n",
      " 20  PctBachDeg25_Over        3047 non-null   float64\n",
      " 21  PctEmployed16_Over       2895 non-null   float64\n",
      " 22  PctUnemployed16_Over     3047 non-null   float64\n",
      " 23  PctPrivateCoverage       3047 non-null   float64\n",
      " 24  PctPrivateCoverageAlone  2438 non-null   float64\n",
      " 25  PctEmpPrivCoverage       3047 non-null   float64\n",
      " 26  PctPublicCoverage        3047 non-null   float64\n",
      " 27  PctPublicCoverageAlone   3047 non-null   float64\n",
      " 28  PctWhite                 3047 non-null   float64\n",
      " 29  PctBlack                 3047 non-null   float64\n",
      " 30  PctAsian                 3047 non-null   float64\n",
      " 31  PctOtherRace             3047 non-null   float64\n",
      " 32  PctMarriedHouseholds     3047 non-null   float64\n",
      " 33  BirthRate                3047 non-null   float64\n",
      "dtypes: float64(29), int64(3), object(2)\n",
      "memory usage: 809.5+ KB\n"
     ]
    }
   ],
   "source": [
    "dataset.info()"
   ]
  },
  {
   "cell_type": "markdown",
   "id": "9d68f2e2",
   "metadata": {},
   "source": [
    "Handle missing values"
   ]
  },
  {
   "cell_type": "code",
   "execution_count": 4,
   "id": "ace029fb",
   "metadata": {},
   "outputs": [],
   "source": [
    "#remove PctSomeCol18_24 column because numver of missing value for this column is large\n",
    "dataset = dataset.drop(columns=['PctSomeCol18_24'])"
   ]
  },
  {
   "cell_type": "code",
   "execution_count": 5,
   "id": "f3b1d7af",
   "metadata": {},
   "outputs": [],
   "source": [
    "#replace null value with mean of correspoding column\n",
    "dataset.fillna(dataset.mean(), inplace=True)"
   ]
  },
  {
   "cell_type": "markdown",
   "id": "b66c428c",
   "metadata": {},
   "source": [
    "Get Average of binnedInc"
   ]
  },
  {
   "cell_type": "code",
   "execution_count": 6,
   "id": "58875b77",
   "metadata": {
    "scrolled": true
   },
   "outputs": [],
   "source": [
    "# Use regular expression to remove ( and ] \n",
    "dataset['binnedInc'] = dataset['binnedInc'].apply(lambda x: re.sub('[^0-9a-zA-Z:,.]+', '', x))\n",
    "samples = dataset['binnedInc'].str.split(',',expand=True).astype(float)\n",
    "avg = (samples[0] + samples[1])/2\n",
    "dataset['avgbinnedInc'] = avg\n",
    "dataset.drop(columns=['binnedInc'], inplace=True)"
   ]
  },
  {
   "cell_type": "markdown",
   "id": "b7cfa9cb",
   "metadata": {},
   "source": [
    "Feature Engineering"
   ]
  },
  {
   "cell_type": "code",
   "execution_count": 7,
   "id": "a9b0b536",
   "metadata": {},
   "outputs": [],
   "source": [
    "#Split the Geography column to two different column - County and State\n",
    "dataset['County'] = dataset['Geography'].apply(lambda x: x.split(',')[0])\n",
    "dataset['State'] = dataset['Geography'].apply(lambda x: x.split(',')[1])\n",
    "dataset.drop(columns=['Geography'], inplace=True)"
   ]
  },
  {
   "cell_type": "code",
   "execution_count": 8,
   "id": "3e82a75e",
   "metadata": {},
   "outputs": [
    {
     "name": "stdout",
     "output_type": "stream",
     "text": [
      "<class 'pandas.core.frame.DataFrame'>\n",
      "RangeIndex: 3047 entries, 0 to 3046\n",
      "Data columns (total 34 columns):\n",
      " #   Column                   Non-Null Count  Dtype  \n",
      "---  ------                   --------------  -----  \n",
      " 0   avgAnnCount              3047 non-null   float64\n",
      " 1   avgDeathsPerYear         3047 non-null   int64  \n",
      " 2   TARGET_deathRate         3047 non-null   float64\n",
      " 3   incidenceRate            3047 non-null   float64\n",
      " 4   medIncome                3047 non-null   int64  \n",
      " 5   popEst2015               3047 non-null   int64  \n",
      " 6   povertyPercent           3047 non-null   float64\n",
      " 7   studyPerCap              3047 non-null   float64\n",
      " 8   MedianAge                3047 non-null   float64\n",
      " 9   MedianAgeMale            3047 non-null   float64\n",
      " 10  MedianAgeFemale          3047 non-null   float64\n",
      " 11  AvgHouseholdSize         3047 non-null   float64\n",
      " 12  PercentMarried           3047 non-null   float64\n",
      " 13  PctNoHS18_24             3047 non-null   float64\n",
      " 14  PctHS18_24               3047 non-null   float64\n",
      " 15  PctBachDeg18_24          3047 non-null   float64\n",
      " 16  PctHS25_Over             3047 non-null   float64\n",
      " 17  PctBachDeg25_Over        3047 non-null   float64\n",
      " 18  PctEmployed16_Over       3047 non-null   float64\n",
      " 19  PctUnemployed16_Over     3047 non-null   float64\n",
      " 20  PctPrivateCoverage       3047 non-null   float64\n",
      " 21  PctPrivateCoverageAlone  3047 non-null   float64\n",
      " 22  PctEmpPrivCoverage       3047 non-null   float64\n",
      " 23  PctPublicCoverage        3047 non-null   float64\n",
      " 24  PctPublicCoverageAlone   3047 non-null   float64\n",
      " 25  PctWhite                 3047 non-null   float64\n",
      " 26  PctBlack                 3047 non-null   float64\n",
      " 27  PctAsian                 3047 non-null   float64\n",
      " 28  PctOtherRace             3047 non-null   float64\n",
      " 29  PctMarriedHouseholds     3047 non-null   float64\n",
      " 30  BirthRate                3047 non-null   float64\n",
      " 31  avgbinnedInc             3047 non-null   float64\n",
      " 32  County                   3047 non-null   object \n",
      " 33  State                    3047 non-null   object \n",
      "dtypes: float64(29), int64(3), object(2)\n",
      "memory usage: 809.5+ KB\n"
     ]
    }
   ],
   "source": [
    "dataset.info()"
   ]
  },
  {
   "cell_type": "code",
   "execution_count": 9,
   "id": "5854efec",
   "metadata": {},
   "outputs": [],
   "source": [
    "dataset = dataset.set_index('County')"
   ]
  },
  {
   "cell_type": "code",
   "execution_count": 10,
   "id": "f1e1d95f",
   "metadata": {},
   "outputs": [
    {
     "data": {
      "text/plain": [
       "<bound method Series.unique of County\n",
       "Kitsap County        Washington\n",
       "Kittitas County      Washington\n",
       "Klickitat County     Washington\n",
       "Lewis County         Washington\n",
       "Lincoln County       Washington\n",
       "                       ...     \n",
       "Ellsworth County         Kansas\n",
       "Finney County            Kansas\n",
       "Ford County              Kansas\n",
       "Franklin County          Kansas\n",
       "Geary County             Kansas\n",
       "Name: State, Length: 3047, dtype: object>"
      ]
     },
     "execution_count": 10,
     "metadata": {},
     "output_type": "execute_result"
    }
   ],
   "source": [
    "dataset.State.unique"
   ]
  },
  {
   "cell_type": "code",
   "execution_count": null,
   "id": "50bc0d26",
   "metadata": {},
   "outputs": [],
   "source": [
    "X = dataset.loc[: , dataset.columns != 'TARGET_deathRate'].values"
   ]
  },
  {
   "cell_type": "code",
   "execution_count": null,
   "id": "ca659fa9",
   "metadata": {},
   "outputs": [],
   "source": [
    "Y = dataset.iloc[:, 2:3].values"
   ]
  },
  {
   "cell_type": "code",
   "execution_count": null,
   "id": "9824935d",
   "metadata": {},
   "outputs": [],
   "source": [
    "X.shape"
   ]
  },
  {
   "cell_type": "code",
   "execution_count": null,
   "id": "1441bfe0",
   "metadata": {},
   "outputs": [],
   "source": [
    "ct = ColumnTransformer(transformers=[('encoder', OneHotEncoder(), [31])], remainder='passthrough')\n",
    "X = np.array(ct.fit_transform(X))"
   ]
  },
  {
   "cell_type": "code",
   "execution_count": null,
   "id": "1d262ef6",
   "metadata": {},
   "outputs": [],
   "source": [
    "X"
   ]
  },
  {
   "cell_type": "code",
   "execution_count": null,
   "id": "fd5101f6",
   "metadata": {},
   "outputs": [],
   "source": [
    "X.shape"
   ]
  },
  {
   "cell_type": "code",
   "execution_count": null,
   "id": "7131e5b4",
   "metadata": {},
   "outputs": [],
   "source": []
  }
 ],
 "metadata": {
  "kernelspec": {
   "display_name": "Python 3",
   "language": "python",
   "name": "python3"
  },
  "language_info": {
   "codemirror_mode": {
    "name": "ipython",
    "version": 3
   },
   "file_extension": ".py",
   "mimetype": "text/x-python",
   "name": "python",
   "nbconvert_exporter": "python",
   "pygments_lexer": "ipython3",
   "version": "3.6.8"
  }
 },
 "nbformat": 4,
 "nbformat_minor": 5
}
